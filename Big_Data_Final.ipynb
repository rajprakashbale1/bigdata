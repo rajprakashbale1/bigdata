{
  "nbformat": 4,
  "nbformat_minor": 0,
  "metadata": {
    "colab": {
      "name": "Big Data Final.ipynb",
      "provenance": [],
      "toc_visible": true,
      "authorship_tag": "ABX9TyPHiQ6aIh4xVXm+Qd2jOIq9",
      "include_colab_link": true
    },
    "kernelspec": {
      "name": "python3",
      "display_name": "Python 3"
    },
    "language_info": {
      "name": "python"
    },
    "accelerator": "GPU"
  },
  "cells": [
    {
      "cell_type": "markdown",
      "metadata": {
        "id": "view-in-github",
        "colab_type": "text"
      },
      "source": [
        "<a href=\"https://colab.research.google.com/github/rajprakashbale1/bigdata/blob/main/Big_Data_Final.ipynb\" target=\"_parent\"><img src=\"https://colab.research.google.com/assets/colab-badge.svg\" alt=\"Open In Colab\"/></a>"
      ]
    },
    {
      "cell_type": "markdown",
      "source": [
        "## 1. Data download from Kaggle using Kaggle API"
      ],
      "metadata": {
        "id": "Fr6legIDuNEA"
      }
    },
    {
      "cell_type": "code",
      "execution_count": 2,
      "metadata": {
        "colab": {
          "base_uri": "https://localhost:8080/"
        },
        "id": "YtQvma-iuHP5",
        "outputId": "8bcb649a-8bb7-4755-a22b-3985cec65afd"
      },
      "outputs": [
        {
          "output_type": "stream",
          "name": "stdout",
          "text": [
            "Looking in indexes: https://pypi.org/simple, https://us-python.pkg.dev/colab-wheels/public/simple/\n",
            "Requirement already satisfied: kaggle in /usr/local/lib/python3.7/dist-packages (1.5.12)\n",
            "Requirement already satisfied: tqdm in /usr/local/lib/python3.7/dist-packages (from kaggle) (4.64.0)\n",
            "Requirement already satisfied: urllib3 in /usr/local/lib/python3.7/dist-packages (from kaggle) (1.24.3)\n",
            "Requirement already satisfied: python-slugify in /usr/local/lib/python3.7/dist-packages (from kaggle) (6.1.2)\n",
            "Requirement already satisfied: python-dateutil in /usr/local/lib/python3.7/dist-packages (from kaggle) (2.8.2)\n",
            "Requirement already satisfied: certifi in /usr/local/lib/python3.7/dist-packages (from kaggle) (2022.5.18.1)\n",
            "Requirement already satisfied: requests in /usr/local/lib/python3.7/dist-packages (from kaggle) (2.23.0)\n",
            "Requirement already satisfied: six>=1.10 in /usr/local/lib/python3.7/dist-packages (from kaggle) (1.15.0)\n",
            "Requirement already satisfied: text-unidecode>=1.3 in /usr/local/lib/python3.7/dist-packages (from python-slugify->kaggle) (1.3)\n",
            "Requirement already satisfied: chardet<4,>=3.0.2 in /usr/local/lib/python3.7/dist-packages (from requests->kaggle) (3.0.4)\n",
            "Requirement already satisfied: idna<3,>=2.5 in /usr/local/lib/python3.7/dist-packages (from requests->kaggle) (2.10)\n",
            "mkdir: cannot create directory ‘/root/.kaggle’: File exists\n"
          ]
        }
      ],
      "source": [
        "!pip install kaggle\n",
        "!mkdir ~/.kaggle\n",
        "!cp kaggle.json ~/.kaggle\n",
        "!chmod 600 ~/.kaggle/kaggle.json"
      ]
    },
    {
      "cell_type": "code",
      "source": [
        "!kaggle datasets download kvnpatel/fruits-vegetable-detection-for-yolov4"
      ],
      "metadata": {
        "colab": {
          "base_uri": "https://localhost:8080/"
        },
        "id": "OtPKBB7oulyZ",
        "outputId": "677f9bc9-6a4b-423f-ac7e-bbefe34846d6"
      },
      "execution_count": 6,
      "outputs": [
        {
          "output_type": "stream",
          "name": "stdout",
          "text": [
            "Downloading fruits-vegetable-detection-for-yolov4.zip to /content\n",
            "100% 5.84G/5.85G [00:50<00:00, 179MB/s]\n",
            "100% 5.85G/5.85G [00:51<00:00, 123MB/s]\n"
          ]
        }
      ]
    },
    {
      "cell_type": "code",
      "source": [
        "# Mounting google drive so that we don't have to keep downloading the dataset from Kaggle \n",
        "from google.colab import drive\n",
        "drive.mount('/content/big_data')"
      ],
      "metadata": {
        "colab": {
          "base_uri": "https://localhost:8080/"
        },
        "id": "S7z47YDbuvCv",
        "outputId": "021415c0-6877-46db-e5fc-de64f502b396"
      },
      "execution_count": 3,
      "outputs": [
        {
          "output_type": "stream",
          "name": "stdout",
          "text": [
            "Mounted at /content/big_data\n"
          ]
        }
      ]
    },
    {
      "cell_type": "code",
      "source": [
        "# saving the mounted root path for easy access\n",
        "root_path = 'big_data/My Drive/423/'"
      ],
      "metadata": {
        "id": "oNpNS-xivsmm"
      },
      "execution_count": 8,
      "outputs": []
    },
    {
      "cell_type": "code",
      "source": [
        "# Unzipping files into the google drive folder\n",
        "import zipfile\n",
        "\n",
        "with zipfile.ZipFile('./fruits-vegetable-detection-for-yolov4.zip','r') as zipref:\n",
        "    zipref.extractall('./big_data/My Drive/423')"
      ],
      "metadata": {
        "id": "qfFpIZJwwaOr"
      },
      "execution_count": 9,
      "outputs": []
    },
    {
      "cell_type": "code",
      "source": [
        "# Renaming files and structuring them for easy access\n",
        "!mv ./big_data/MyDrive/423/obj\\ \\(1\\)/obj ./big_data/MyDrive/423/Train\n",
        "!mv ./big_data/MyDrive/423/test/test ./big_data/MyDrive/423/Test"
      ],
      "metadata": {
        "id": "vIyRHVQVw0sR"
      },
      "execution_count": 10,
      "outputs": []
    },
    {
      "cell_type": "markdown",
      "source": [
        "## 2. Creating Test and Train Datasets"
      ],
      "metadata": {
        "id": "e8sTXlY019NS"
      }
    },
    {
      "cell_type": "code",
      "source": [
        "# saving the mounted root path for easy access\n",
        "root_path = 'big_data/My Drive/423/'"
      ],
      "metadata": {
        "id": "A6003wk0Ocfq"
      },
      "execution_count": 4,
      "outputs": []
    },
    {
      "cell_type": "code",
      "source": [
        "import glob, os\n",
        "\n",
        "train_files = glob.glob(os.path.join(root_path,'Train','*.jpg'))\n",
        "test_files = glob.glob(os.path.join(root_path,'Test','*.jpg'))"
      ],
      "metadata": {
        "id": "0j7dBG-lAnlX"
      },
      "execution_count": 5,
      "outputs": []
    },
    {
      "cell_type": "code",
      "source": [
        "import pandas as pd\n",
        "\n",
        "df_train = pd.DataFrame(train_files, columns=['path'])\n",
        "df_test = pd.DataFrame(test_files, columns=['path'])"
      ],
      "metadata": {
        "id": "rLPbST3YE8ve"
      },
      "execution_count": 6,
      "outputs": []
    },
    {
      "cell_type": "code",
      "source": [
        "def get_labels(x):\n",
        "    return x.split('_')[3].split('-')[0]\n",
        "\n",
        "df_train['label'] = df_train.path.apply(lambda x: get_labels(x))\n",
        "df_test['label'] = df_test.path.apply(lambda x: get_labels(x))"
      ],
      "metadata": {
        "id": "GYAhu6UTFcgb"
      },
      "execution_count": 7,
      "outputs": []
    },
    {
      "cell_type": "markdown",
      "source": [
        "## 2.1 Understanding the split of our data in train and test sets"
      ],
      "metadata": {
        "id": "zGGvGnKoH1Au"
      }
    },
    {
      "cell_type": "code",
      "source": [
        "train_stats = pd.DataFrame(df_train.label.value_counts())\n",
        "train_stats['data_cat'] = 'train'\n",
        "train_stats['pcts'] = round((train_stats['label']/sum(train_stats.label))*100,2)\n",
        "train_stats"
      ],
      "metadata": {
        "colab": {
          "base_uri": "https://localhost:8080/",
          "height": 297
        },
        "id": "E0vQeciWFdlG",
        "outputId": "244d944e-2209-449d-f82f-36e39f0b6f26"
      },
      "execution_count": 8,
      "outputs": [
        {
          "output_type": "execute_result",
          "data": {
            "text/plain": [
              "               label data_cat   pcts\n",
              "chilli           630    train  15.98\n",
              "lemon            618    train  15.68\n",
              "tomato           613    train  15.55\n",
              "apple            607    train  15.40\n",
              "banana           604    train  15.32\n",
              "grapes           604    train  15.32\n",
              "raspberry        149    train   3.78\n",
              "blackberries     117    train   2.97"
            ],
            "text/html": [
              "\n",
              "  <div id=\"df-fe6440a4-f321-400b-99fd-bb25884ea3bc\">\n",
              "    <div class=\"colab-df-container\">\n",
              "      <div>\n",
              "<style scoped>\n",
              "    .dataframe tbody tr th:only-of-type {\n",
              "        vertical-align: middle;\n",
              "    }\n",
              "\n",
              "    .dataframe tbody tr th {\n",
              "        vertical-align: top;\n",
              "    }\n",
              "\n",
              "    .dataframe thead th {\n",
              "        text-align: right;\n",
              "    }\n",
              "</style>\n",
              "<table border=\"1\" class=\"dataframe\">\n",
              "  <thead>\n",
              "    <tr style=\"text-align: right;\">\n",
              "      <th></th>\n",
              "      <th>label</th>\n",
              "      <th>data_cat</th>\n",
              "      <th>pcts</th>\n",
              "    </tr>\n",
              "  </thead>\n",
              "  <tbody>\n",
              "    <tr>\n",
              "      <th>chilli</th>\n",
              "      <td>630</td>\n",
              "      <td>train</td>\n",
              "      <td>15.98</td>\n",
              "    </tr>\n",
              "    <tr>\n",
              "      <th>lemon</th>\n",
              "      <td>618</td>\n",
              "      <td>train</td>\n",
              "      <td>15.68</td>\n",
              "    </tr>\n",
              "    <tr>\n",
              "      <th>tomato</th>\n",
              "      <td>613</td>\n",
              "      <td>train</td>\n",
              "      <td>15.55</td>\n",
              "    </tr>\n",
              "    <tr>\n",
              "      <th>apple</th>\n",
              "      <td>607</td>\n",
              "      <td>train</td>\n",
              "      <td>15.40</td>\n",
              "    </tr>\n",
              "    <tr>\n",
              "      <th>banana</th>\n",
              "      <td>604</td>\n",
              "      <td>train</td>\n",
              "      <td>15.32</td>\n",
              "    </tr>\n",
              "    <tr>\n",
              "      <th>grapes</th>\n",
              "      <td>604</td>\n",
              "      <td>train</td>\n",
              "      <td>15.32</td>\n",
              "    </tr>\n",
              "    <tr>\n",
              "      <th>raspberry</th>\n",
              "      <td>149</td>\n",
              "      <td>train</td>\n",
              "      <td>3.78</td>\n",
              "    </tr>\n",
              "    <tr>\n",
              "      <th>blackberries</th>\n",
              "      <td>117</td>\n",
              "      <td>train</td>\n",
              "      <td>2.97</td>\n",
              "    </tr>\n",
              "  </tbody>\n",
              "</table>\n",
              "</div>\n",
              "      <button class=\"colab-df-convert\" onclick=\"convertToInteractive('df-fe6440a4-f321-400b-99fd-bb25884ea3bc')\"\n",
              "              title=\"Convert this dataframe to an interactive table.\"\n",
              "              style=\"display:none;\">\n",
              "        \n",
              "  <svg xmlns=\"http://www.w3.org/2000/svg\" height=\"24px\"viewBox=\"0 0 24 24\"\n",
              "       width=\"24px\">\n",
              "    <path d=\"M0 0h24v24H0V0z\" fill=\"none\"/>\n",
              "    <path d=\"M18.56 5.44l.94 2.06.94-2.06 2.06-.94-2.06-.94-.94-2.06-.94 2.06-2.06.94zm-11 1L8.5 8.5l.94-2.06 2.06-.94-2.06-.94L8.5 2.5l-.94 2.06-2.06.94zm10 10l.94 2.06.94-2.06 2.06-.94-2.06-.94-.94-2.06-.94 2.06-2.06.94z\"/><path d=\"M17.41 7.96l-1.37-1.37c-.4-.4-.92-.59-1.43-.59-.52 0-1.04.2-1.43.59L10.3 9.45l-7.72 7.72c-.78.78-.78 2.05 0 2.83L4 21.41c.39.39.9.59 1.41.59.51 0 1.02-.2 1.41-.59l7.78-7.78 2.81-2.81c.8-.78.8-2.07 0-2.86zM5.41 20L4 18.59l7.72-7.72 1.47 1.35L5.41 20z\"/>\n",
              "  </svg>\n",
              "      </button>\n",
              "      \n",
              "  <style>\n",
              "    .colab-df-container {\n",
              "      display:flex;\n",
              "      flex-wrap:wrap;\n",
              "      gap: 12px;\n",
              "    }\n",
              "\n",
              "    .colab-df-convert {\n",
              "      background-color: #E8F0FE;\n",
              "      border: none;\n",
              "      border-radius: 50%;\n",
              "      cursor: pointer;\n",
              "      display: none;\n",
              "      fill: #1967D2;\n",
              "      height: 32px;\n",
              "      padding: 0 0 0 0;\n",
              "      width: 32px;\n",
              "    }\n",
              "\n",
              "    .colab-df-convert:hover {\n",
              "      background-color: #E2EBFA;\n",
              "      box-shadow: 0px 1px 2px rgba(60, 64, 67, 0.3), 0px 1px 3px 1px rgba(60, 64, 67, 0.15);\n",
              "      fill: #174EA6;\n",
              "    }\n",
              "\n",
              "    [theme=dark] .colab-df-convert {\n",
              "      background-color: #3B4455;\n",
              "      fill: #D2E3FC;\n",
              "    }\n",
              "\n",
              "    [theme=dark] .colab-df-convert:hover {\n",
              "      background-color: #434B5C;\n",
              "      box-shadow: 0px 1px 3px 1px rgba(0, 0, 0, 0.15);\n",
              "      filter: drop-shadow(0px 1px 2px rgba(0, 0, 0, 0.3));\n",
              "      fill: #FFFFFF;\n",
              "    }\n",
              "  </style>\n",
              "\n",
              "      <script>\n",
              "        const buttonEl =\n",
              "          document.querySelector('#df-fe6440a4-f321-400b-99fd-bb25884ea3bc button.colab-df-convert');\n",
              "        buttonEl.style.display =\n",
              "          google.colab.kernel.accessAllowed ? 'block' : 'none';\n",
              "\n",
              "        async function convertToInteractive(key) {\n",
              "          const element = document.querySelector('#df-fe6440a4-f321-400b-99fd-bb25884ea3bc');\n",
              "          const dataTable =\n",
              "            await google.colab.kernel.invokeFunction('convertToInteractive',\n",
              "                                                     [key], {});\n",
              "          if (!dataTable) return;\n",
              "\n",
              "          const docLinkHtml = 'Like what you see? Visit the ' +\n",
              "            '<a target=\"_blank\" href=https://colab.research.google.com/notebooks/data_table.ipynb>data table notebook</a>'\n",
              "            + ' to learn more about interactive tables.';\n",
              "          element.innerHTML = '';\n",
              "          dataTable['output_type'] = 'display_data';\n",
              "          await google.colab.output.renderOutput(dataTable, element);\n",
              "          const docLink = document.createElement('div');\n",
              "          docLink.innerHTML = docLinkHtml;\n",
              "          element.appendChild(docLink);\n",
              "        }\n",
              "      </script>\n",
              "    </div>\n",
              "  </div>\n",
              "  "
            ]
          },
          "metadata": {},
          "execution_count": 8
        }
      ]
    },
    {
      "cell_type": "code",
      "source": [
        "test_stats = pd.DataFrame(df_test.label.value_counts())\n",
        "test_stats['data_cat'] = 'test'\n",
        "test_stats['pcts'] = round((test_stats['label']/sum(test_stats.label))*100,2)\n",
        "test_stats"
      ],
      "metadata": {
        "colab": {
          "base_uri": "https://localhost:8080/",
          "height": 297
        },
        "id": "Y0SH_57fHaK8",
        "outputId": "cf933476-7ce9-4488-dd05-406daef15b01"
      },
      "execution_count": 9,
      "outputs": [
        {
          "output_type": "execute_result",
          "data": {
            "text/plain": [
              "               label data_cat   pcts\n",
              "banana           110     test  16.92\n",
              "lemon            103     test  15.85\n",
              "apple            100     test  15.38\n",
              "chilli            98     test  15.08\n",
              "grapes            96     test  14.77\n",
              "tomato            94     test  14.46\n",
              "raspberry         26     test   4.00\n",
              "blackberries      23     test   3.54"
            ],
            "text/html": [
              "\n",
              "  <div id=\"df-9187bf5f-c410-4eaf-8469-06019ad30bf6\">\n",
              "    <div class=\"colab-df-container\">\n",
              "      <div>\n",
              "<style scoped>\n",
              "    .dataframe tbody tr th:only-of-type {\n",
              "        vertical-align: middle;\n",
              "    }\n",
              "\n",
              "    .dataframe tbody tr th {\n",
              "        vertical-align: top;\n",
              "    }\n",
              "\n",
              "    .dataframe thead th {\n",
              "        text-align: right;\n",
              "    }\n",
              "</style>\n",
              "<table border=\"1\" class=\"dataframe\">\n",
              "  <thead>\n",
              "    <tr style=\"text-align: right;\">\n",
              "      <th></th>\n",
              "      <th>label</th>\n",
              "      <th>data_cat</th>\n",
              "      <th>pcts</th>\n",
              "    </tr>\n",
              "  </thead>\n",
              "  <tbody>\n",
              "    <tr>\n",
              "      <th>banana</th>\n",
              "      <td>110</td>\n",
              "      <td>test</td>\n",
              "      <td>16.92</td>\n",
              "    </tr>\n",
              "    <tr>\n",
              "      <th>lemon</th>\n",
              "      <td>103</td>\n",
              "      <td>test</td>\n",
              "      <td>15.85</td>\n",
              "    </tr>\n",
              "    <tr>\n",
              "      <th>apple</th>\n",
              "      <td>100</td>\n",
              "      <td>test</td>\n",
              "      <td>15.38</td>\n",
              "    </tr>\n",
              "    <tr>\n",
              "      <th>chilli</th>\n",
              "      <td>98</td>\n",
              "      <td>test</td>\n",
              "      <td>15.08</td>\n",
              "    </tr>\n",
              "    <tr>\n",
              "      <th>grapes</th>\n",
              "      <td>96</td>\n",
              "      <td>test</td>\n",
              "      <td>14.77</td>\n",
              "    </tr>\n",
              "    <tr>\n",
              "      <th>tomato</th>\n",
              "      <td>94</td>\n",
              "      <td>test</td>\n",
              "      <td>14.46</td>\n",
              "    </tr>\n",
              "    <tr>\n",
              "      <th>raspberry</th>\n",
              "      <td>26</td>\n",
              "      <td>test</td>\n",
              "      <td>4.00</td>\n",
              "    </tr>\n",
              "    <tr>\n",
              "      <th>blackberries</th>\n",
              "      <td>23</td>\n",
              "      <td>test</td>\n",
              "      <td>3.54</td>\n",
              "    </tr>\n",
              "  </tbody>\n",
              "</table>\n",
              "</div>\n",
              "      <button class=\"colab-df-convert\" onclick=\"convertToInteractive('df-9187bf5f-c410-4eaf-8469-06019ad30bf6')\"\n",
              "              title=\"Convert this dataframe to an interactive table.\"\n",
              "              style=\"display:none;\">\n",
              "        \n",
              "  <svg xmlns=\"http://www.w3.org/2000/svg\" height=\"24px\"viewBox=\"0 0 24 24\"\n",
              "       width=\"24px\">\n",
              "    <path d=\"M0 0h24v24H0V0z\" fill=\"none\"/>\n",
              "    <path d=\"M18.56 5.44l.94 2.06.94-2.06 2.06-.94-2.06-.94-.94-2.06-.94 2.06-2.06.94zm-11 1L8.5 8.5l.94-2.06 2.06-.94-2.06-.94L8.5 2.5l-.94 2.06-2.06.94zm10 10l.94 2.06.94-2.06 2.06-.94-2.06-.94-.94-2.06-.94 2.06-2.06.94z\"/><path d=\"M17.41 7.96l-1.37-1.37c-.4-.4-.92-.59-1.43-.59-.52 0-1.04.2-1.43.59L10.3 9.45l-7.72 7.72c-.78.78-.78 2.05 0 2.83L4 21.41c.39.39.9.59 1.41.59.51 0 1.02-.2 1.41-.59l7.78-7.78 2.81-2.81c.8-.78.8-2.07 0-2.86zM5.41 20L4 18.59l7.72-7.72 1.47 1.35L5.41 20z\"/>\n",
              "  </svg>\n",
              "      </button>\n",
              "      \n",
              "  <style>\n",
              "    .colab-df-container {\n",
              "      display:flex;\n",
              "      flex-wrap:wrap;\n",
              "      gap: 12px;\n",
              "    }\n",
              "\n",
              "    .colab-df-convert {\n",
              "      background-color: #E8F0FE;\n",
              "      border: none;\n",
              "      border-radius: 50%;\n",
              "      cursor: pointer;\n",
              "      display: none;\n",
              "      fill: #1967D2;\n",
              "      height: 32px;\n",
              "      padding: 0 0 0 0;\n",
              "      width: 32px;\n",
              "    }\n",
              "\n",
              "    .colab-df-convert:hover {\n",
              "      background-color: #E2EBFA;\n",
              "      box-shadow: 0px 1px 2px rgba(60, 64, 67, 0.3), 0px 1px 3px 1px rgba(60, 64, 67, 0.15);\n",
              "      fill: #174EA6;\n",
              "    }\n",
              "\n",
              "    [theme=dark] .colab-df-convert {\n",
              "      background-color: #3B4455;\n",
              "      fill: #D2E3FC;\n",
              "    }\n",
              "\n",
              "    [theme=dark] .colab-df-convert:hover {\n",
              "      background-color: #434B5C;\n",
              "      box-shadow: 0px 1px 3px 1px rgba(0, 0, 0, 0.15);\n",
              "      filter: drop-shadow(0px 1px 2px rgba(0, 0, 0, 0.3));\n",
              "      fill: #FFFFFF;\n",
              "    }\n",
              "  </style>\n",
              "\n",
              "      <script>\n",
              "        const buttonEl =\n",
              "          document.querySelector('#df-9187bf5f-c410-4eaf-8469-06019ad30bf6 button.colab-df-convert');\n",
              "        buttonEl.style.display =\n",
              "          google.colab.kernel.accessAllowed ? 'block' : 'none';\n",
              "\n",
              "        async function convertToInteractive(key) {\n",
              "          const element = document.querySelector('#df-9187bf5f-c410-4eaf-8469-06019ad30bf6');\n",
              "          const dataTable =\n",
              "            await google.colab.kernel.invokeFunction('convertToInteractive',\n",
              "                                                     [key], {});\n",
              "          if (!dataTable) return;\n",
              "\n",
              "          const docLinkHtml = 'Like what you see? Visit the ' +\n",
              "            '<a target=\"_blank\" href=https://colab.research.google.com/notebooks/data_table.ipynb>data table notebook</a>'\n",
              "            + ' to learn more about interactive tables.';\n",
              "          element.innerHTML = '';\n",
              "          dataTable['output_type'] = 'display_data';\n",
              "          await google.colab.output.renderOutput(dataTable, element);\n",
              "          const docLink = document.createElement('div');\n",
              "          docLink.innerHTML = docLinkHtml;\n",
              "          element.appendChild(docLink);\n",
              "        }\n",
              "      </script>\n",
              "    </div>\n",
              "  </div>\n",
              "  "
            ]
          },
          "metadata": {},
          "execution_count": 9
        }
      ]
    },
    {
      "cell_type": "code",
      "source": [
        "ax = train_stats.pcts.plot(kind='line')\n",
        "test_stats.pcts.plot(kind='line',ax=ax,color='r')"
      ],
      "metadata": {
        "colab": {
          "base_uri": "https://localhost:8080/",
          "height": 282
        },
        "id": "0oi4trUmLDBj",
        "outputId": "166dc5ae-ac38-4d0a-8e60-84c92c382c79"
      },
      "execution_count": 10,
      "outputs": [
        {
          "output_type": "execute_result",
          "data": {
            "text/plain": [
              "<matplotlib.axes._subplots.AxesSubplot at 0x7f7c2eb654d0>"
            ]
          },
          "metadata": {},
          "execution_count": 10
        },
        {
          "output_type": "display_data",
          "data": {
            "text/plain": [
              "<Figure size 432x288 with 1 Axes>"
            ],
            "image/png": "[encoded data removed]"
          },
          "metadata": {
            "needs_background": "light"
          }
        }
      ]
    },
    {
      "cell_type": "markdown",
      "source": [
        "This ensures that the test and train are similar in distribution"
      ],
      "metadata": {
        "id": "E9qaOw-BSTMg"
      }
    },
    {
      "cell_type": "markdown",
      "source": [
        "2.2 Data Generator for training"
      ],
      "metadata": {
        "id": "qZM2wDT0SaFZ"
      }
    },
    {
      "cell_type": "code",
      "source": [
        "df_train['label'].unique()"
      ],
      "metadata": {
        "colab": {
          "base_uri": "https://localhost:8080/"
        },
        "id": "p5PqiA7AWJI6",
        "outputId": "bf12bbc3-c47b-4460-d4f6-305b7d3172bf"
      },
      "execution_count": 65,
      "outputs": [
        {
          "output_type": "execute_result",
          "data": {
            "text/plain": [
              "array(['apple', 'grapes', 'lemon', 'tomato', 'banana', 'raspberry ',\n",
              "       'chilli', 'blackberries '], dtype=object)"
            ]
          },
          "metadata": {},
          "execution_count": 65
        }
      ]
    },
    {
      "cell_type": "code",
      "source": [
        "# converting categorical variables into numbers for training\n",
        "from sklearn.preprocessing import LabelEncoder\n",
        "\n",
        "encoder = LabelEncoder()\n",
        "df_train['category'] = encoder.fit_transform(df_train['label'])\n",
        "df_test['category'] = encoder.fit_transform(df_test['label'])"
      ],
      "metadata": {
        "id": "jot-u852VmZG"
      },
      "execution_count": 25,
      "outputs": []
    },
    {
      "cell_type": "markdown",
      "source": [
        "Checking if the categories are labelled the same in both test and train"
      ],
      "metadata": {
        "id": "K3Lh0vXcQyPq"
      }
    },
    {
      "cell_type": "code",
      "source": [
        "df_train.groupby('label').agg(pd.Series.mode)"
      ],
      "metadata": {
        "colab": {
          "base_uri": "https://localhost:8080/",
          "height": 328
        },
        "id": "3jxQQc7OQmih",
        "outputId": "e7984210-2cfb-4579-c49f-c852f4b73deb"
      },
      "execution_count": 26,
      "outputs": [
        {
          "output_type": "execute_result",
          "data": {
            "text/plain": [
              "                                                            path  category\n",
              "label                                                                     \n",
              "apple          [big_data/My Drive/423/Train/0_1_apple_wb_7.jp...         0\n",
              "banana         [big_data/My Drive/423/Train/10_0_banana_wb_28...         1\n",
              "blackberries   [big_data/My Drive/423/Train/147_0_blackberrie...         2\n",
              "chilli         [big_data/My Drive/423/Train/125_0_chilli_wob_...         3\n",
              "grapes         [big_data/My Drive/423/Train/100_0_grapes_wob_...         4\n",
              "lemon          [big_data/My Drive/423/Train/103_1_lemon_wb_14...         5\n",
              "raspberry      [big_data/My Drive/423/Train/112_1_raspberry -...         6\n",
              "tomato         [big_data/My Drive/423/Train/105_0_tomato_wb_4...         7"
            ],
            "text/html": [
              "\n",
              "  <div id=\"df-f131a6f1-1cf5-4900-8e8e-c977bd180a48\">\n",
              "    <div class=\"colab-df-container\">\n",
              "      <div>\n",
              "<style scoped>\n",
              "    .dataframe tbody tr th:only-of-type {\n",
              "        vertical-align: middle;\n",
              "    }\n",
              "\n",
              "    .dataframe tbody tr th {\n",
              "        vertical-align: top;\n",
              "    }\n",
              "\n",
              "    .dataframe thead th {\n",
              "        text-align: right;\n",
              "    }\n",
              "</style>\n",
              "<table border=\"1\" class=\"dataframe\">\n",
              "  <thead>\n",
              "    <tr style=\"text-align: right;\">\n",
              "      <th></th>\n",
              "      <th>path</th>\n",
              "      <th>category</th>\n",
              "    </tr>\n",
              "    <tr>\n",
              "      <th>label</th>\n",
              "      <th></th>\n",
              "      <th></th>\n",
              "    </tr>\n",
              "  </thead>\n",
              "  <tbody>\n",
              "    <tr>\n",
              "      <th>apple</th>\n",
              "      <td>[big_data/My Drive/423/Train/0_1_apple_wb_7.jp...</td>\n",
              "      <td>0</td>\n",
              "    </tr>\n",
              "    <tr>\n",
              "      <th>banana</th>\n",
              "      <td>[big_data/My Drive/423/Train/10_0_banana_wb_28...</td>\n",
              "      <td>1</td>\n",
              "    </tr>\n",
              "    <tr>\n",
              "      <th>blackberries</th>\n",
              "      <td>[big_data/My Drive/423/Train/147_0_blackberrie...</td>\n",
              "      <td>2</td>\n",
              "    </tr>\n",
              "    <tr>\n",
              "      <th>chilli</th>\n",
              "      <td>[big_data/My Drive/423/Train/125_0_chilli_wob_...</td>\n",
              "      <td>3</td>\n",
              "    </tr>\n",
              "    <tr>\n",
              "      <th>grapes</th>\n",
              "      <td>[big_data/My Drive/423/Train/100_0_grapes_wob_...</td>\n",
              "      <td>4</td>\n",
              "    </tr>\n",
              "    <tr>\n",
              "      <th>lemon</th>\n",
              "      <td>[big_data/My Drive/423/Train/103_1_lemon_wb_14...</td>\n",
              "      <td>5</td>\n",
              "    </tr>\n",
              "    <tr>\n",
              "      <th>raspberry</th>\n",
              "      <td>[big_data/My Drive/423/Train/112_1_raspberry -...</td>\n",
              "      <td>6</td>\n",
              "    </tr>\n",
              "    <tr>\n",
              "      <th>tomato</th>\n",
              "      <td>[big_data/My Drive/423/Train/105_0_tomato_wb_4...</td>\n",
              "      <td>7</td>\n",
              "    </tr>\n",
              "  </tbody>\n",
              "</table>\n",
              "</div>\n",
              "      <button class=\"colab-df-convert\" onclick=\"convertToInteractive('df-f131a6f1-1cf5-4900-8e8e-c977bd180a48')\"\n",
              "              title=\"Convert this dataframe to an interactive table.\"\n",
              "              style=\"display:none;\">\n",
              "        \n",
              "  <svg xmlns=\"http://www.w3.org/2000/svg\" height=\"24px\"viewBox=\"0 0 24 24\"\n",
              "       width=\"24px\">\n",
              "    <path d=\"M0 0h24v24H0V0z\" fill=\"none\"/>\n",
              "    <path d=\"M18.56 5.44l.94 2.06.94-2.06 2.06-.94-2.06-.94-.94-2.06-.94 2.06-2.06.94zm-11 1L8.5 8.5l.94-2.06 2.06-.94-2.06-.94L8.5 2.5l-.94 2.06-2.06.94zm10 10l.94 2.06.94-2.06 2.06-.94-2.06-.94-.94-2.06-.94 2.06-2.06.94z\"/><path d=\"M17.41 7.96l-1.37-1.37c-.4-.4-.92-.59-1.43-.59-.52 0-1.04.2-1.43.59L10.3 9.45l-7.72 7.72c-.78.78-.78 2.05 0 2.83L4 21.41c.39.39.9.59 1.41.59.51 0 1.02-.2 1.41-.59l7.78-7.78 2.81-2.81c.8-.78.8-2.07 0-2.86zM5.41 20L4 18.59l7.72-7.72 1.47 1.35L5.41 20z\"/>\n",
              "  </svg>\n",
              "      </button>\n",
              "      \n",
              "  <style>\n",
              "    .colab-df-container {\n",
              "      display:flex;\n",
              "      flex-wrap:wrap;\n",
              "      gap: 12px;\n",
              "    }\n",
              "\n",
              "    .colab-df-convert {\n",
              "      background-color: #E8F0FE;\n",
              "      border: none;\n",
              "      border-radius: 50%;\n",
              "      cursor: pointer;\n",
              "      display: none;\n",
              "      fill: #1967D2;\n",
              "      height: 32px;\n",
              "      padding: 0 0 0 0;\n",
              "      width: 32px;\n",
              "    }\n",
              "\n",
              "    .colab-df-convert:hover {\n",
              "      background-color: #E2EBFA;\n",
              "      box-shadow: 0px 1px 2px rgba(60, 64, 67, 0.3), 0px 1px 3px 1px rgba(60, 64, 67, 0.15);\n",
              "      fill: #174EA6;\n",
              "    }\n",
              "\n",
              "    [theme=dark] .colab-df-convert {\n",
              "      background-color: #3B4455;\n",
              "      fill: #D2E3FC;\n",
              "    }\n",
              "\n",
              "    [theme=dark] .colab-df-convert:hover {\n",
              "      background-color: #434B5C;\n",
              "      box-shadow: 0px 1px 3px 1px rgba(0, 0, 0, 0.15);\n",
              "      filter: drop-shadow(0px 1px 2px rgba(0, 0, 0, 0.3));\n",
              "      fill: #FFFFFF;\n",
              "    }\n",
              "  </style>\n",
              "\n",
              "      <script>\n",
              "        const buttonEl =\n",
              "          document.querySelector('#df-f131a6f1-1cf5-4900-8e8e-c977bd180a48 button.colab-df-convert');\n",
              "        buttonEl.style.display =\n",
              "          google.colab.kernel.accessAllowed ? 'block' : 'none';\n",
              "\n",
              "        async function convertToInteractive(key) {\n",
              "          const element = document.querySelector('#df-f131a6f1-1cf5-4900-8e8e-c977bd180a48');\n",
              "          const dataTable =\n",
              "            await google.colab.kernel.invokeFunction('convertToInteractive',\n",
              "                                                     [key], {});\n",
              "          if (!dataTable) return;\n",
              "\n",
              "          const docLinkHtml = 'Like what you see? Visit the ' +\n",
              "            '<a target=\"_blank\" href=https://colab.research.google.com/notebooks/data_table.ipynb>data table notebook</a>'\n",
              "            + ' to learn more about interactive tables.';\n",
              "          element.innerHTML = '';\n",
              "          dataTable['output_type'] = 'display_data';\n",
              "          await google.colab.output.renderOutput(dataTable, element);\n",
              "          const docLink = document.createElement('div');\n",
              "          docLink.innerHTML = docLinkHtml;\n",
              "          element.appendChild(docLink);\n",
              "        }\n",
              "      </script>\n",
              "    </div>\n",
              "  </div>\n",
              "  "
            ]
          },
          "metadata": {},
          "execution_count": 26
        }
      ]
    },
    {
      "cell_type": "code",
      "source": [
        "df_test.groupby('label').agg(pd.Series.mode)"
      ],
      "metadata": {
        "colab": {
          "base_uri": "https://localhost:8080/",
          "height": 328
        },
        "id": "NoX1S-yLtoe2",
        "outputId": "5320cb59-87f7-4835-de7a-d001e48992a5"
      },
      "execution_count": 27,
      "outputs": [
        {
          "output_type": "execute_result",
          "data": {
            "text/plain": [
              "                                                            path  category\n",
              "label                                                                     \n",
              "apple          [big_data/My Drive/423/Test/0_0_apple_wb_7.jpg...         0\n",
              "banana         [big_data/My Drive/423/Test/115_4_banana_wob_1...         1\n",
              "blackberries   [big_data/My Drive/423/Test/147_2_blackberries...         2\n",
              "chilli         [big_data/My Drive/423/Test/125_6_chilli_wob_2...         3\n",
              "grapes         [big_data/My Drive/423/Test/100_6_grapes_wob_7...         4\n",
              "lemon          [big_data/My Drive/423/Test/103_0_lemon_wb_14....         5\n",
              "raspberry      [big_data/My Drive/423/Test/112_0_raspberry - ...         6\n",
              "tomato         [big_data/My Drive/423/Test/105_1_tomato_wb_49...         7"
            ],
            "text/html": [
              "\n",
              "  <div id=\"df-ebee00aa-7d2f-43a6-8f2d-3cd4a9558152\">\n",
              "    <div class=\"colab-df-container\">\n",
              "      <div>\n",
              "<style scoped>\n",
              "    .dataframe tbody tr th:only-of-type {\n",
              "        vertical-align: middle;\n",
              "    }\n",
              "\n",
              "    .dataframe tbody tr th {\n",
              "        vertical-align: top;\n",
              "    }\n",
              "\n",
              "    .dataframe thead th {\n",
              "        text-align: right;\n",
              "    }\n",
              "</style>\n",
              "<table border=\"1\" class=\"dataframe\">\n",
              "  <thead>\n",
              "    <tr style=\"text-align: right;\">\n",
              "      <th></th>\n",
              "      <th>path</th>\n",
              "      <th>category</th>\n",
              "    </tr>\n",
              "    <tr>\n",
              "      <th>label</th>\n",
              "      <th></th>\n",
              "      <th></th>\n",
              "    </tr>\n",
              "  </thead>\n",
              "  <tbody>\n",
              "    <tr>\n",
              "      <th>apple</th>\n",
              "      <td>[big_data/My Drive/423/Test/0_0_apple_wb_7.jpg...</td>\n",
              "      <td>0</td>\n",
              "    </tr>\n",
              "    <tr>\n",
              "      <th>banana</th>\n",
              "      <td>[big_data/My Drive/423/Test/115_4_banana_wob_1...</td>\n",
              "      <td>1</td>\n",
              "    </tr>\n",
              "    <tr>\n",
              "      <th>blackberries</th>\n",
              "      <td>[big_data/My Drive/423/Test/147_2_blackberries...</td>\n",
              "      <td>2</td>\n",
              "    </tr>\n",
              "    <tr>\n",
              "      <th>chilli</th>\n",
              "      <td>[big_data/My Drive/423/Test/125_6_chilli_wob_2...</td>\n",
              "      <td>3</td>\n",
              "    </tr>\n",
              "    <tr>\n",
              "      <th>grapes</th>\n",
              "      <td>[big_data/My Drive/423/Test/100_6_grapes_wob_7...</td>\n",
              "      <td>4</td>\n",
              "    </tr>\n",
              "    <tr>\n",
              "      <th>lemon</th>\n",
              "      <td>[big_data/My Drive/423/Test/103_0_lemon_wb_14....</td>\n",
              "      <td>5</td>\n",
              "    </tr>\n",
              "    <tr>\n",
              "      <th>raspberry</th>\n",
              "      <td>[big_data/My Drive/423/Test/112_0_raspberry - ...</td>\n",
              "      <td>6</td>\n",
              "    </tr>\n",
              "    <tr>\n",
              "      <th>tomato</th>\n",
              "      <td>[big_data/My Drive/423/Test/105_1_tomato_wb_49...</td>\n",
              "      <td>7</td>\n",
              "    </tr>\n",
              "  </tbody>\n",
              "</table>\n",
              "</div>\n",
              "      <button class=\"colab-df-convert\" onclick=\"convertToInteractive('df-ebee00aa-7d2f-43a6-8f2d-3cd4a9558152')\"\n",
              "              title=\"Convert this dataframe to an interactive table.\"\n",
              "              style=\"display:none;\">\n",
              "        \n",
              "  <svg xmlns=\"http://www.w3.org/2000/svg\" height=\"24px\"viewBox=\"0 0 24 24\"\n",
              "       width=\"24px\">\n",
              "    <path d=\"M0 0h24v24H0V0z\" fill=\"none\"/>\n",
              "    <path d=\"M18.56 5.44l.94 2.06.94-2.06 2.06-.94-2.06-.94-.94-2.06-.94 2.06-2.06.94zm-11 1L8.5 8.5l.94-2.06 2.06-.94-2.06-.94L8.5 2.5l-.94 2.06-2.06.94zm10 10l.94 2.06.94-2.06 2.06-.94-2.06-.94-.94-2.06-.94 2.06-2.06.94z\"/><path d=\"M17.41 7.96l-1.37-1.37c-.4-.4-.92-.59-1.43-.59-.52 0-1.04.2-1.43.59L10.3 9.45l-7.72 7.72c-.78.78-.78 2.05 0 2.83L4 21.41c.39.39.9.59 1.41.59.51 0 1.02-.2 1.41-.59l7.78-7.78 2.81-2.81c.8-.78.8-2.07 0-2.86zM5.41 20L4 18.59l7.72-7.72 1.47 1.35L5.41 20z\"/>\n",
              "  </svg>\n",
              "      </button>\n",
              "      \n",
              "  <style>\n",
              "    .colab-df-container {\n",
              "      display:flex;\n",
              "      flex-wrap:wrap;\n",
              "      gap: 12px;\n",
              "    }\n",
              "\n",
              "    .colab-df-convert {\n",
              "      background-color: #E8F0FE;\n",
              "      border: none;\n",
              "      border-radius: 50%;\n",
              "      cursor: pointer;\n",
              "      display: none;\n",
              "      fill: #1967D2;\n",
              "      height: 32px;\n",
              "      padding: 0 0 0 0;\n",
              "      width: 32px;\n",
              "    }\n",
              "\n",
              "    .colab-df-convert:hover {\n",
              "      background-color: #E2EBFA;\n",
              "      box-shadow: 0px 1px 2px rgba(60, 64, 67, 0.3), 0px 1px 3px 1px rgba(60, 64, 67, 0.15);\n",
              "      fill: #174EA6;\n",
              "    }\n",
              "\n",
              "    [theme=dark] .colab-df-convert {\n",
              "      background-color: #3B4455;\n",
              "      fill: #D2E3FC;\n",
              "    }\n",
              "\n",
              "    [theme=dark] .colab-df-convert:hover {\n",
              "      background-color: #434B5C;\n",
              "      box-shadow: 0px 1px 3px 1px rgba(0, 0, 0, 0.15);\n",
              "      filter: drop-shadow(0px 1px 2px rgba(0, 0, 0, 0.3));\n",
              "      fill: #FFFFFF;\n",
              "    }\n",
              "  </style>\n",
              "\n",
              "      <script>\n",
              "        const buttonEl =\n",
              "          document.querySelector('#df-ebee00aa-7d2f-43a6-8f2d-3cd4a9558152 button.colab-df-convert');\n",
              "        buttonEl.style.display =\n",
              "          google.colab.kernel.accessAllowed ? 'block' : 'none';\n",
              "\n",
              "        async function convertToInteractive(key) {\n",
              "          const element = document.querySelector('#df-ebee00aa-7d2f-43a6-8f2d-3cd4a9558152');\n",
              "          const dataTable =\n",
              "            await google.colab.kernel.invokeFunction('convertToInteractive',\n",
              "                                                     [key], {});\n",
              "          if (!dataTable) return;\n",
              "\n",
              "          const docLinkHtml = 'Like what you see? Visit the ' +\n",
              "            '<a target=\"_blank\" href=https://colab.research.google.com/notebooks/data_table.ipynb>data table notebook</a>'\n",
              "            + ' to learn more about interactive tables.';\n",
              "          element.innerHTML = '';\n",
              "          dataTable['output_type'] = 'display_data';\n",
              "          await google.colab.output.renderOutput(dataTable, element);\n",
              "          const docLink = document.createElement('div');\n",
              "          docLink.innerHTML = docLinkHtml;\n",
              "          element.appendChild(docLink);\n",
              "        }\n",
              "      </script>\n",
              "    </div>\n",
              "  </div>\n",
              "  "
            ]
          },
          "metadata": {},
          "execution_count": 27
        }
      ]
    },
    {
      "cell_type": "code",
      "source": [
        "import pandas as pd\n",
        "from sklearn.model_selection import train_test_split\n",
        "import tensorflow as tf\n",
        "from tensorflow.keras.preprocessing.image import ImageDataGenerator\n",
        "\n",
        "# train_df, validate_df = train_test_split(df_train, test_size=0.20, random_state=420, stratify=df_train.label)\n",
        "# train_df = train_df.reset_index(drop=True)\n",
        "# validate_df = validate_df.reset_index(drop=True)\n",
        "\n",
        "train_datagen = ImageDataGenerator(\n",
        "    rotation_range=180,\n",
        "    rescale=1./255,\n",
        "    shear_range=0.1,\n",
        "    zoom_range=0.2,\n",
        "    width_shift_range=0.1,\n",
        "    height_shift_range=0.1,\n",
        "    validation_split=0.15,\n",
        "    horizontal_flip=True,\n",
        "    vertical_flip=True\n",
        ")\n",
        "\n",
        "test_datagen = ImageDataGenerator(\n",
        "    rescale=1./255\n",
        ")\n",
        "\n",
        "train_generator = train_datagen.flow_from_dataframe(\n",
        "    df_train, \n",
        "    directory = \"./\", \n",
        "    x_col='path',\n",
        "    y_col='label',\n",
        "    target_size=(128,128),\n",
        "    class_mode='categorical',\n",
        "    batch_size=32,\n",
        "    subset='training',\n",
        "    seed=420\n",
        ")\n",
        "\n",
        "validation_generator = train_datagen.flow_from_dataframe(\n",
        "    df_train, \n",
        "    directory = \"./\", \n",
        "    x_col='path',\n",
        "    y_col='label',\n",
        "    target_size=(128,128),\n",
        "    class_mode='categorical',\n",
        "    batch_size=32,\n",
        "    subset='validation',\n",
        "    seed=420\n",
        ")\n",
        "\n",
        "test_generator = test_datagen.flow_from_dataframe(\n",
        "    df_test, \n",
        "    directory = \"./\", \n",
        "    x_col='path',\n",
        "    y_col='label',\n",
        "    target_size=(128,128),\n",
        "    class_mode='categorical',\n",
        "    batch_size=32,\n",
        "    seed=420\n",
        ")"
      ],
      "metadata": {
        "colab": {
          "base_uri": "https://localhost:8080/"
        },
        "id": "JtlPM3gGFkge",
        "outputId": "378e8605-2c4f-49f1-8433-12a3608b7761"
      },
      "execution_count": 52,
      "outputs": [
        {
          "output_type": "stream",
          "name": "stdout",
          "text": [
            "Found 3351 validated image filenames belonging to 8 classes.\n",
            "Found 591 validated image filenames belonging to 8 classes.\n",
            "Found 650 validated image filenames belonging to 8 classes.\n"
          ]
        }
      ]
    },
    {
      "cell_type": "markdown",
      "source": [
        "## 3. Model"
      ],
      "metadata": {
        "id": "A77rZBsQVi8g"
      }
    },
    {
      "cell_type": "code",
      "source": [
        "from tensorflow.keras.optimizers import RMSprop\n",
        "from tensorflow.keras import Model\n",
        "import tensorflow as tf\n",
        "from tensorflow import keras\n",
        "from tensorflow.keras.preprocessing.image import ImageDataGenerator\n",
        "from tensorflow.keras.layers import Conv2D, MaxPooling2D\n",
        "from tensorflow.keras.layers import Dense, Dropout, Flatten, Activation\n",
        "from tensorflow.keras.models import Sequential\n",
        "from tensorflow.keras.callbacks import EarlyStopping, ReduceLROnPlateau, ModelCheckpoint\n",
        "from tensorflow.keras.optimizers import Adam\n",
        "from sklearn import metrics\n",
        "from sklearn.metrics import accuracy_score\n",
        "import numpy as np\n",
        "\n",
        "\n",
        "def create_model():\n",
        "    model = Sequential()\n",
        "    model.add(Conv2D(16,kernel_size=(3,3),activation='relu',padding='same',input_shape=(128,128,3)))\n",
        "    model.add(Conv2D(16,kernel_size=(3,3),activation='relu',padding='same'))\n",
        "    model.add(Conv2D(16,kernel_size=(3,3),activation='relu',padding='same'))\n",
        "    model.add(MaxPooling2D(pool_size=(2,2)))\n",
        "    model.add(Conv2D(32,kernel_size=(3,3),activation='relu',padding='same'))\n",
        "    model.add(Conv2D(32,kernel_size=(3,3),activation='relu',padding='same'))\n",
        "    model.add(Conv2D(32,kernel_size=(3,3),activation='relu',padding='same'))\n",
        "    model.add(MaxPooling2D(pool_size=(2,2)))\n",
        "    model.add(Conv2D(64,kernel_size=(3,3),activation='relu',padding='same'))\n",
        "    model.add(Conv2D(64,kernel_size=(3,3),activation='relu',padding='same'))\n",
        "    model.add(Conv2D(64,kernel_size=(3,3),activation='relu',padding='same'))\n",
        "    model.add(MaxPooling2D(pool_size=(2,2)))\n",
        "    model.add(Conv2D(64,kernel_size=(3,3),activation='relu',padding='same'))\n",
        "    model.add(Conv2D(64,kernel_size=(3,3),activation='relu',padding='same'))\n",
        "    model.add(MaxPooling2D(pool_size=(2,2)))\n",
        "    model.add(Flatten())\n",
        "    model.add(Dense(512,activation='relu'))\n",
        "    model.add(Dense(256,activation='relu'))\n",
        "    model.add(Dense(128,activation='relu'))\n",
        "    model.add(Dense(64,activation='relu'))\n",
        "    model.add(Dense(32,activation='relu'))\n",
        "    model.add(Dense(16,activation='relu'))\n",
        "    model.add(Dense(8,activation='softmax'))\n",
        "    model.compile(optimizer=Adam(lr=0.0001),loss='categorical_crossentropy',metrics=['accuracy'])\n",
        "    return model\n",
        "\n",
        "model = create_model()"
      ],
      "metadata": {
        "colab": {
          "base_uri": "https://localhost:8080/"
        },
        "id": "-5P9CgGOUr4V",
        "outputId": "b2356d16-7866-4a11-a2c0-99447cc45b9f"
      },
      "execution_count": 54,
      "outputs": [
        {
          "output_type": "stream",
          "name": "stderr",
          "text": [
            "/usr/local/lib/python3.7/dist-packages/keras/optimizer_v2/adam.py:105: UserWarning: The `lr` argument is deprecated, use `learning_rate` instead.\n",
            "  super(Adam, self).__init__(name, **kwargs)\n"
          ]
        }
      ]
    },
    {
      "cell_type": "code",
      "source": [
        "model.summary()"
      ],
      "metadata": {
        "colab": {
          "base_uri": "https://localhost:8080/"
        },
        "id": "-tNV0dtAbj3_",
        "outputId": "1beceb96-97cc-4733-ceb5-6294939aa5e8"
      },
      "execution_count": 55,
      "outputs": [
        {
          "output_type": "stream",
          "name": "stdout",
          "text": [
            "Model: \"sequential_3\"\n",
            "_________________________________________________________________\n",
            " Layer (type)                Output Shape              Param #   \n",
            "=================================================================\n",
            " conv2d_19 (Conv2D)          (None, 128, 128, 16)      448       \n",
            "                                                                 \n",
            " conv2d_20 (Conv2D)          (None, 128, 128, 16)      2320      \n",
            "                                                                 \n",
            " conv2d_21 (Conv2D)          (None, 128, 128, 16)      2320      \n",
            "                                                                 \n",
            " max_pooling2d_12 (MaxPoolin  (None, 64, 64, 16)       0         \n",
            " g2D)                                                            \n",
            "                                                                 \n",
            " conv2d_22 (Conv2D)          (None, 64, 64, 32)        4640      \n",
            "                                                                 \n",
            " conv2d_23 (Conv2D)          (None, 64, 64, 32)        9248      \n",
            "                                                                 \n",
            " conv2d_24 (Conv2D)          (None, 64, 64, 32)        9248      \n",
            "                                                                 \n",
            " max_pooling2d_13 (MaxPoolin  (None, 32, 32, 32)       0         \n",
            " g2D)                                                            \n",
            "                                                                 \n",
            " conv2d_25 (Conv2D)          (None, 32, 32, 64)        18496     \n",
            "                                                                 \n",
            " conv2d_26 (Conv2D)          (None, 32, 32, 64)        36928     \n",
            "                                                                 \n",
            " conv2d_27 (Conv2D)          (None, 32, 32, 64)        36928     \n",
            "                                                                 \n",
            " max_pooling2d_14 (MaxPoolin  (None, 16, 16, 64)       0         \n",
            " g2D)                                                            \n",
            "                                                                 \n",
            " conv2d_28 (Conv2D)          (None, 16, 16, 64)        36928     \n",
            "                                                                 \n",
            " conv2d_29 (Conv2D)          (None, 16, 16, 64)        36928     \n",
            "                                                                 \n",
            " max_pooling2d_15 (MaxPoolin  (None, 8, 8, 64)         0         \n",
            " g2D)                                                            \n",
            "                                                                 \n",
            " flatten_3 (Flatten)         (None, 4096)              0         \n",
            "                                                                 \n",
            " dense_13 (Dense)            (None, 512)               2097664   \n",
            "                                                                 \n",
            " dense_14 (Dense)            (None, 256)               131328    \n",
            "                                                                 \n",
            " dense_15 (Dense)            (None, 128)               32896     \n",
            "                                                                 \n",
            " dense_16 (Dense)            (None, 64)                8256      \n",
            "                                                                 \n",
            " dense_17 (Dense)            (None, 32)                2080      \n",
            "                                                                 \n",
            " dense_18 (Dense)            (None, 16)                528       \n",
            "                                                                 \n",
            " dense_19 (Dense)            (None, 8)                 136       \n",
            "                                                                 \n",
            "=================================================================\n",
            "Total params: 2,467,320\n",
            "Trainable params: 2,467,320\n",
            "Non-trainable params: 0\n",
            "_________________________________________________________________\n"
          ]
        }
      ]
    },
    {
      "cell_type": "code",
      "source": [
        "history = model.fit_generator(\n",
        "    train_generator,\n",
        "    validation_data = validation_generator,\n",
        "    steps_per_epoch = 5,\n",
        "    epochs = 20,\n",
        "    validation_steps = 10,\n",
        "    verbose = 1\n",
        ")"
      ],
      "metadata": {
        "colab": {
          "base_uri": "https://localhost:8080/"
        },
        "id": "XJchtbLabnPy",
        "outputId": "96887014-cf20-4f2e-e930-79d01f052c1d"
      },
      "execution_count": 57,
      "outputs": [
        {
          "metadata": {
            "tags": null
          },
          "name": "stderr",
          "output_type": "stream",
          "text": [
            "/usr/local/lib/python3.7/dist-packages/ipykernel_launcher.py:7: UserWarning: `Model.fit_generator` is deprecated and will be removed in a future version. Please use `Model.fit`, which supports generators.\n",
            "  import sys\n"
          ]
        },
        {
          "output_type": "stream",
          "name": "stdout",
          "text": [
            "Epoch 1/20\n",
            "5/5 [==============================] - 25s 5s/step - loss: 2.0649 - accuracy: 0.1562\n",
            "Epoch 2/20\n",
            "5/5 [==============================] - 25s 5s/step - loss: 2.0704 - accuracy: 0.1500\n",
            "Epoch 3/20\n",
            "5/5 [==============================] - 25s 5s/step - loss: 2.0095 - accuracy: 0.2250\n",
            "Epoch 4/20\n",
            "5/5 [==============================] - 25s 5s/step - loss: 2.0680 - accuracy: 0.1312\n",
            "Epoch 5/20\n",
            "5/5 [==============================] - 25s 5s/step - loss: 2.0456 - accuracy: 0.1250\n",
            "Epoch 6/20\n",
            "5/5 [==============================] - 25s 5s/step - loss: 2.0639 - accuracy: 0.1750\n",
            "Epoch 7/20\n",
            "5/5 [==============================] - 25s 5s/step - loss: 2.0457 - accuracy: 0.1937\n",
            "Epoch 8/20\n",
            "5/5 [==============================] - 25s 5s/step - loss: 2.0299 - accuracy: 0.2062\n",
            "Epoch 9/20\n",
            "5/5 [==============================] - 25s 5s/step - loss: 2.0292 - accuracy: 0.1625\n",
            "Epoch 10/20\n",
            "5/5 [==============================] - 25s 5s/step - loss: 2.0466 - accuracy: 0.1500\n",
            "Epoch 11/20\n",
            "5/5 [==============================] - 25s 5s/step - loss: 2.0517 - accuracy: 0.1437\n",
            "Epoch 12/20\n",
            "5/5 [==============================] - 25s 5s/step - loss: 2.0264 - accuracy: 0.1688\n",
            "Epoch 13/20\n",
            "5/5 [==============================] - 25s 5s/step - loss: 2.0372 - accuracy: 0.1500\n",
            "Epoch 14/20\n",
            "5/5 [==============================] - 25s 5s/step - loss: 2.0195 - accuracy: 0.1813\n",
            "Epoch 15/20\n",
            "5/5 [==============================] - 25s 5s/step - loss: 2.0294 - accuracy: 0.1562\n",
            "Epoch 16/20\n",
            "5/5 [==============================] - 23s 5s/step - loss: 2.0368 - accuracy: 0.1589\n",
            "Epoch 17/20\n",
            "5/5 [==============================] - 25s 5s/step - loss: 2.0279 - accuracy: 0.1625\n",
            "Epoch 18/20\n",
            "5/5 [==============================] - 25s 5s/step - loss: 2.0245 - accuracy: 0.1875\n",
            "Epoch 19/20\n",
            "5/5 [==============================] - 25s 5s/step - loss: 2.0414 - accuracy: 0.2000\n",
            "Epoch 20/20\n",
            "5/5 [==============================] - 25s 5s/step - loss: 2.0353 - accuracy: 0.1375\n"
          ]
        }
      ]
    },
    {
      "cell_type": "code",
      "source": [
        "import matplotlib.pyplot as plt\n",
        "acc = history.history['accuracy']\n",
        "#val_acc = history.history['val_accuracy']\n",
        "loss = history.history['loss']\n",
        "#val_loss = history.history['val_loss']\n",
        "\n",
        "epochs = range(len(acc))\n",
        "\n",
        "plt.plot(epochs, acc, 'r', label='Training accuracy')\n",
        "#plt.plot(epochs, val_acc, 'b', label='Validation accuracy')\n",
        "plt.title('Training accuracy')\n",
        "plt.legend(loc=0)\n",
        "plt.figure()\n",
        "\n",
        "\n",
        "plt.show()"
      ],
      "metadata": {
        "colab": {
          "base_uri": "https://localhost:8080/",
          "height": 298
        },
        "id": "C1qF3BwMdQCT",
        "outputId": "2ff14f09-6de9-4794-983b-eee39bb36894"
      },
      "execution_count": 60,
      "outputs": [
        {
          "output_type": "display_data",
          "data": {
            "text/plain": [
              "<Figure size 432x288 with 1 Axes>"
            ],
            "image/png": "[encoded data removed]"
          },
          "metadata": {
            "needs_background": "light"
          }
        },
        {
          "output_type": "display_data",
          "data": {
            "text/plain": [
              "<Figure size 432x288 with 0 Axes>"
            ]
          },
          "metadata": {}
        }
      ]
    },
    {
      "cell_type": "code",
      "source": [
        "y_pred_raw = model.predict_generator(test_generator)\n",
        "y_pred = np.argmax(y_pred_raw,axis=1)\n",
        "print(metrics.classification_report(df_test.category.values,y_pred))"
      ],
      "metadata": {
        "colab": {
          "base_uri": "https://localhost:8080/"
        },
        "id": "tIDREk6VkJqD",
        "outputId": "8123488c-d41a-42d8-a430-e4e481afdde5"
      },
      "execution_count": 61,
      "outputs": [
        {
          "output_type": "stream",
          "name": "stderr",
          "text": [
            "/usr/local/lib/python3.7/dist-packages/ipykernel_launcher.py:1: UserWarning: `Model.predict_generator` is deprecated and will be removed in a future version. Please use `Model.predict`, which supports generators.\n",
            "  \"\"\"Entry point for launching an IPython kernel.\n"
          ]
        },
        {
          "output_type": "stream",
          "name": "stdout",
          "text": [
            "              precision    recall  f1-score   support\n",
            "\n",
            "           0       0.00      0.00      0.00       100\n",
            "           1       0.00      0.00      0.00       110\n",
            "           2       0.00      0.00      0.00        23\n",
            "           3       0.00      0.00      0.00        98\n",
            "           4       0.15      1.00      0.26        96\n",
            "           5       0.00      0.00      0.00       103\n",
            "           6       0.00      0.00      0.00        26\n",
            "           7       0.00      0.00      0.00        94\n",
            "\n",
            "    accuracy                           0.15       650\n",
            "   macro avg       0.02      0.12      0.03       650\n",
            "weighted avg       0.02      0.15      0.04       650\n",
            "\n"
          ]
        },
        {
          "output_type": "stream",
          "name": "stderr",
          "text": [
            "/usr/local/lib/python3.7/dist-packages/sklearn/metrics/_classification.py:1318: UndefinedMetricWarning: Precision and F-score are ill-defined and being set to 0.0 in labels with no predicted samples. Use `zero_division` parameter to control this behavior.\n",
            "  _warn_prf(average, modifier, msg_start, len(result))\n",
            "/usr/local/lib/python3.7/dist-packages/sklearn/metrics/_classification.py:1318: UndefinedMetricWarning: Precision and F-score are ill-defined and being set to 0.0 in labels with no predicted samples. Use `zero_division` parameter to control this behavior.\n",
            "  _warn_prf(average, modifier, msg_start, len(result))\n",
            "/usr/local/lib/python3.7/dist-packages/sklearn/metrics/_classification.py:1318: UndefinedMetricWarning: Precision and F-score are ill-defined and being set to 0.0 in labels with no predicted samples. Use `zero_division` parameter to control this behavior.\n",
            "  _warn_prf(average, modifier, msg_start, len(result))\n"
          ]
        }
      ]
    },
    {
      "cell_type": "code",
      "source": [
        "print(accuracy_score(df_test.category.values,y_pred))"
      ],
      "metadata": {
        "colab": {
          "base_uri": "https://localhost:8080/"
        },
        "id": "R035zEBJl7r6",
        "outputId": "862fd955-2afa-483c-e1ec-e79794f66cef"
      },
      "execution_count": 38,
      "outputs": [
        {
          "output_type": "stream",
          "name": "stdout",
          "text": [
            "0.15692307692307692\n"
          ]
        }
      ]
    },
    {
      "cell_type": "markdown",
      "source": [
        "Without using ImageGenerator"
      ],
      "metadata": {
        "id": "r2moDIQ3w9QD"
      }
    },
    {
      "cell_type": "code",
      "source": [
        "import cv2\n",
        "\n",
        "def img_and_label_generator(df):\n",
        "    images = []\n",
        "    labels = []\n",
        "    for _,row in df.iterrows():\n",
        "        img = cv2.imread(os.path.join('./',row.path))\n",
        "        img = cv2.resize(img,(128,128))\n",
        "        images.append(img)\n",
        "        labels.append(row.label)\n",
        "    labels_df = pd.get_dummies(labels)\n",
        "    labels = labels_df.values\n",
        "    images = np.array(images)\n",
        "    return images, labels, labels_df\n",
        "\n",
        "train_images, train_labels, train_labels_with_rep = img_and_label_generator(df_train)\n",
        "test_images, test_labels, test_labels_with_rep = img_and_label_generator(df_test)\n",
        "x_train,x_val,y_train,y_val = train_test_split(train_images,train_labels,random_state=420, test_size=0.15)"
      ],
      "metadata": {
        "id": "gJfzvcbOmyzb"
      },
      "execution_count": 88,
      "outputs": []
    },
    {
      "cell_type": "code",
      "source": [
        "import joblib\n",
        "\n",
        "joblib.dump(train_images, os.path.join('./',root_path,'train_images_list.pkl'))\n",
        "joblib.dump(train_labels, os.path.join('./',root_path,'train_labels_list.pkl'))\n",
        "joblib.dump(test_images, os.path.join('./',root_path,'test_images_list.pkl'))\n",
        "joblib.dump(train_labels, os.path.join('./',root_path,'train_labels_list.pkl'))\n",
        "\n",
        "joblib.dump(x_train, os.path.join('./',root_path,'x_train_list.pkl'))\n",
        "joblib.dump(x_val, os.path.join('./',root_path,'x_val_list.pkl'))\n",
        "joblib.dump(y_train, os.path.join('./',root_path,'y_train_list.pkl'))\n",
        "joblib.dump(y_val, os.path.join('./',root_path,'y_val_list.pkl'))"
      ],
      "metadata": {
        "colab": {
          "base_uri": "https://localhost:8080/"
        },
        "id": "NqAnw79A3bBc",
        "outputId": "7cca1bde-e2cb-47e9-abcd-64da76d39cc6"
      },
      "execution_count": 89,
      "outputs": [
        {
          "output_type": "execute_result",
          "data": {
            "text/plain": [
              "['./big_data/My Drive/423/y_val_list.pkl']"
            ]
          },
          "metadata": {},
          "execution_count": 89
        }
      ]
    },
    {
      "cell_type": "code",
      "source": [
        "earlystopper = EarlyStopping(monitor='val_accuracy',patience=10,verbose=1)\n",
        "reduce_learning_rate = ReduceLROnPlateau(monitor='val_accuracy',factor=0.5,patience=2,verbose=1,mode='max',min_lr=0.00001)\n",
        "checkpointer = ModelCheckpoint('bestmodel.h5',monitor='val_accuracy',verbose=1,save_best_only=True,save_weights_only=True)\n",
        "\n",
        "new_model = create_model()\n",
        "history2 = new_model.fit(x_train, y_train, epochs=50, batch_size=50,validation_data=(x_val,y_val),\n",
        "                     callbacks=[earlystopper,reduce_learning_rate,checkpointer])"
      ],
      "metadata": {
        "colab": {
          "base_uri": "https://localhost:8080/"
        },
        "id": "RTAuibXs4P38",
        "outputId": "c354ddbc-a14a-46f9-8c24-152745e6a7e1"
      },
      "execution_count": 91,
      "outputs": [
        {
          "output_type": "stream",
          "name": "stderr",
          "text": [
            "/usr/local/lib/python3.7/dist-packages/keras/optimizer_v2/adam.py:105: UserWarning: The `lr` argument is deprecated, use `learning_rate` instead.\n",
            "  super(Adam, self).__init__(name, **kwargs)\n"
          ]
        },
        {
          "output_type": "stream",
          "name": "stdout",
          "text": [
            "Epoch 1/50\n",
            "67/67 [==============================] - ETA: 0s - loss: 1.9139 - accuracy: 0.2009\n",
            "Epoch 1: val_accuracy improved from -inf to 0.36655, saving model to bestmodel.h5\n",
            "67/67 [==============================] - 23s 63ms/step - loss: 1.9139 - accuracy: 0.2009 - val_loss: 1.6637 - val_accuracy: 0.3666 - lr: 1.0000e-04\n",
            "Epoch 2/50\n",
            "67/67 [==============================] - ETA: 0s - loss: 1.4107 - accuracy: 0.4633\n",
            "Epoch 2: val_accuracy improved from 0.36655 to 0.51520, saving model to bestmodel.h5\n",
            "67/67 [==============================] - 4s 58ms/step - loss: 1.4107 - accuracy: 0.4633 - val_loss: 1.2527 - val_accuracy: 0.5152 - lr: 1.0000e-04\n",
            "Epoch 3/50\n",
            "67/67 [==============================] - ETA: 0s - loss: 0.9859 - accuracy: 0.6490\n",
            "Epoch 3: val_accuracy improved from 0.51520 to 0.72804, saving model to bestmodel.h5\n",
            "67/67 [==============================] - 4s 58ms/step - loss: 0.9859 - accuracy: 0.6490 - val_loss: 0.7893 - val_accuracy: 0.7280 - lr: 1.0000e-04\n",
            "Epoch 4/50\n",
            "67/67 [==============================] - ETA: 0s - loss: 0.5951 - accuracy: 0.7839\n",
            "Epoch 4: val_accuracy improved from 0.72804 to 0.84797, saving model to bestmodel.h5\n",
            "67/67 [==============================] - 4s 59ms/step - loss: 0.5951 - accuracy: 0.7839 - val_loss: 0.4746 - val_accuracy: 0.8480 - lr: 1.0000e-04\n",
            "Epoch 5/50\n",
            "67/67 [==============================] - ETA: 0s - loss: 0.3252 - accuracy: 0.8851\n",
            "Epoch 5: val_accuracy improved from 0.84797 to 0.88851, saving model to bestmodel.h5\n",
            "67/67 [==============================] - 4s 59ms/step - loss: 0.3252 - accuracy: 0.8851 - val_loss: 0.2984 - val_accuracy: 0.8885 - lr: 1.0000e-04\n",
            "Epoch 6/50\n",
            "67/67 [==============================] - ETA: 0s - loss: 0.2484 - accuracy: 0.9176\n",
            "Epoch 6: val_accuracy improved from 0.88851 to 0.91047, saving model to bestmodel.h5\n",
            "67/67 [==============================] - 4s 59ms/step - loss: 0.2484 - accuracy: 0.9176 - val_loss: 0.2211 - val_accuracy: 0.9105 - lr: 1.0000e-04\n",
            "Epoch 7/50\n",
            "67/67 [==============================] - ETA: 0s - loss: 0.1706 - accuracy: 0.9403\n",
            "Epoch 7: val_accuracy improved from 0.91047 to 0.93074, saving model to bestmodel.h5\n",
            "67/67 [==============================] - 4s 60ms/step - loss: 0.1706 - accuracy: 0.9403 - val_loss: 0.1979 - val_accuracy: 0.9307 - lr: 1.0000e-04\n",
            "Epoch 8/50\n",
            "67/67 [==============================] - ETA: 0s - loss: 0.1503 - accuracy: 0.9496\n",
            "Epoch 8: val_accuracy did not improve from 0.93074\n",
            "67/67 [==============================] - 4s 61ms/step - loss: 0.1503 - accuracy: 0.9496 - val_loss: 0.2344 - val_accuracy: 0.9240 - lr: 1.0000e-04\n",
            "Epoch 9/50\n",
            "67/67 [==============================] - ETA: 0s - loss: 0.0962 - accuracy: 0.9678\n",
            "Epoch 9: val_accuracy improved from 0.93074 to 0.95777, saving model to bestmodel.h5\n",
            "67/67 [==============================] - 4s 60ms/step - loss: 0.0962 - accuracy: 0.9678 - val_loss: 0.1173 - val_accuracy: 0.9578 - lr: 1.0000e-04\n",
            "Epoch 10/50\n",
            "67/67 [==============================] - ETA: 0s - loss: 0.0612 - accuracy: 0.9770\n",
            "Epoch 10: val_accuracy improved from 0.95777 to 0.96115, saving model to bestmodel.h5\n",
            "67/67 [==============================] - 4s 60ms/step - loss: 0.0612 - accuracy: 0.9770 - val_loss: 0.1162 - val_accuracy: 0.9611 - lr: 1.0000e-04\n",
            "Epoch 11/50\n",
            "67/67 [==============================] - ETA: 0s - loss: 0.0611 - accuracy: 0.9782\n",
            "Epoch 11: val_accuracy improved from 0.96115 to 0.97804, saving model to bestmodel.h5\n",
            "67/67 [==============================] - 4s 60ms/step - loss: 0.0611 - accuracy: 0.9782 - val_loss: 0.0736 - val_accuracy: 0.9780 - lr: 1.0000e-04\n",
            "Epoch 12/50\n",
            "67/67 [==============================] - ETA: 0s - loss: 0.0341 - accuracy: 0.9887\n",
            "Epoch 12: val_accuracy improved from 0.97804 to 0.98480, saving model to bestmodel.h5\n",
            "67/67 [==============================] - 4s 60ms/step - loss: 0.0341 - accuracy: 0.9887 - val_loss: 0.0508 - val_accuracy: 0.9848 - lr: 1.0000e-04\n",
            "Epoch 13/50\n",
            "67/67 [==============================] - ETA: 0s - loss: 0.0197 - accuracy: 0.9934\n",
            "Epoch 13: val_accuracy did not improve from 0.98480\n",
            "67/67 [==============================] - 4s 58ms/step - loss: 0.0197 - accuracy: 0.9934 - val_loss: 0.0803 - val_accuracy: 0.9764 - lr: 1.0000e-04\n",
            "Epoch 14/50\n",
            "67/67 [==============================] - ETA: 0s - loss: 0.0312 - accuracy: 0.9893\n",
            "Epoch 14: ReduceLROnPlateau reducing learning rate to 4.999999873689376e-05.\n",
            "\n",
            "Epoch 14: val_accuracy did not improve from 0.98480\n",
            "67/67 [==============================] - 4s 58ms/step - loss: 0.0312 - accuracy: 0.9893 - val_loss: 0.0913 - val_accuracy: 0.9679 - lr: 1.0000e-04\n",
            "Epoch 15/50\n",
            "67/67 [==============================] - ETA: 0s - loss: 0.0103 - accuracy: 0.9979\n",
            "Epoch 15: val_accuracy improved from 0.98480 to 0.98818, saving model to bestmodel.h5\n",
            "67/67 [==============================] - 4s 59ms/step - loss: 0.0103 - accuracy: 0.9979 - val_loss: 0.0342 - val_accuracy: 0.9882 - lr: 5.0000e-05\n",
            "Epoch 16/50\n",
            "67/67 [==============================] - ETA: 0s - loss: 0.0032 - accuracy: 0.9997\n",
            "Epoch 16: val_accuracy did not improve from 0.98818\n",
            "67/67 [==============================] - 4s 58ms/step - loss: 0.0032 - accuracy: 0.9997 - val_loss: 0.0353 - val_accuracy: 0.9848 - lr: 5.0000e-05\n",
            "Epoch 17/50\n",
            "67/67 [==============================] - ETA: 0s - loss: 0.0024 - accuracy: 0.9997\n",
            "Epoch 17: ReduceLROnPlateau reducing learning rate to 2.499999936844688e-05.\n",
            "\n",
            "Epoch 17: val_accuracy did not improve from 0.98818\n",
            "67/67 [==============================] - 4s 59ms/step - loss: 0.0024 - accuracy: 0.9997 - val_loss: 0.0352 - val_accuracy: 0.9848 - lr: 5.0000e-05\n",
            "Epoch 18/50\n",
            "67/67 [==============================] - ETA: 0s - loss: 0.0014 - accuracy: 1.0000\n",
            "Epoch 18: val_accuracy did not improve from 0.98818\n",
            "67/67 [==============================] - 4s 58ms/step - loss: 0.0014 - accuracy: 1.0000 - val_loss: 0.0329 - val_accuracy: 0.9848 - lr: 2.5000e-05\n",
            "Epoch 19/50\n",
            "67/67 [==============================] - ETA: 0s - loss: 0.0011 - accuracy: 1.0000\n",
            "Epoch 19: ReduceLROnPlateau reducing learning rate to 1.249999968422344e-05.\n",
            "\n",
            "Epoch 19: val_accuracy did not improve from 0.98818\n",
            "67/67 [==============================] - 4s 58ms/step - loss: 0.0011 - accuracy: 1.0000 - val_loss: 0.0342 - val_accuracy: 0.9865 - lr: 2.5000e-05\n",
            "Epoch 20/50\n",
            "67/67 [==============================] - ETA: 0s - loss: 0.0010 - accuracy: 1.0000\n",
            "Epoch 20: val_accuracy did not improve from 0.98818\n",
            "67/67 [==============================] - 4s 58ms/step - loss: 0.0010 - accuracy: 1.0000 - val_loss: 0.0338 - val_accuracy: 0.9848 - lr: 1.2500e-05\n",
            "Epoch 21/50\n",
            "67/67 [==============================] - ETA: 0s - loss: 9.5461e-04 - accuracy: 1.0000\n",
            "Epoch 21: ReduceLROnPlateau reducing learning rate to 1e-05.\n",
            "\n",
            "Epoch 21: val_accuracy did not improve from 0.98818\n",
            "67/67 [==============================] - 4s 58ms/step - loss: 9.5461e-04 - accuracy: 1.0000 - val_loss: 0.0332 - val_accuracy: 0.9848 - lr: 1.2500e-05\n",
            "Epoch 22/50\n",
            "67/67 [==============================] - ETA: 0s - loss: 9.0989e-04 - accuracy: 1.0000\n",
            "Epoch 22: val_accuracy did not improve from 0.98818\n",
            "67/67 [==============================] - 4s 58ms/step - loss: 9.0989e-04 - accuracy: 1.0000 - val_loss: 0.0336 - val_accuracy: 0.9848 - lr: 1.0000e-05\n",
            "Epoch 23/50\n",
            "67/67 [==============================] - ETA: 0s - loss: 8.7920e-04 - accuracy: 1.0000\n",
            "Epoch 23: val_accuracy did not improve from 0.98818\n",
            "67/67 [==============================] - 4s 60ms/step - loss: 8.7920e-04 - accuracy: 1.0000 - val_loss: 0.0334 - val_accuracy: 0.9848 - lr: 1.0000e-05\n",
            "Epoch 24/50\n",
            "67/67 [==============================] - ETA: 0s - loss: 8.4312e-04 - accuracy: 1.0000\n",
            "Epoch 24: val_accuracy did not improve from 0.98818\n",
            "67/67 [==============================] - 4s 58ms/step - loss: 8.4312e-04 - accuracy: 1.0000 - val_loss: 0.0336 - val_accuracy: 0.9848 - lr: 1.0000e-05\n",
            "Epoch 25/50\n",
            "67/67 [==============================] - ETA: 0s - loss: 8.1245e-04 - accuracy: 1.0000\n",
            "Epoch 25: val_accuracy did not improve from 0.98818\n",
            "67/67 [==============================] - 4s 58ms/step - loss: 8.1245e-04 - accuracy: 1.0000 - val_loss: 0.0342 - val_accuracy: 0.9848 - lr: 1.0000e-05\n",
            "Epoch 25: early stopping\n"
          ]
        }
      ]
    },
    {
      "cell_type": "code",
      "source": [
        "!mv bestmodel.h5 ./big_data/MyDrive/423/bestmodel.h5"
      ],
      "metadata": {
        "id": "ryjPT4TxAVic"
      },
      "execution_count": 92,
      "outputs": []
    },
    {
      "cell_type": "code",
      "source": [
        "plt.plot(history2.history['accuracy'])\n",
        "plt.plot(history2.history['val_accuracy'])\n",
        "plt.title('model accuracy')\n",
        "plt.ylabel('accuracy')\n",
        "plt.xlabel('epoch')\n",
        "plt.legend(['train', 'test'], loc='upper left')\n",
        "plt.show()"
      ],
      "metadata": {
        "colab": {
          "base_uri": "https://localhost:8080/",
          "height": 295
        },
        "id": "SBsxt9Ny4ndi",
        "outputId": "93c608ee-9439-40ac-c09e-ce0ceca7b699"
      },
      "execution_count": 93,
      "outputs": [
        {
          "output_type": "display_data",
          "data": {
            "text/plain": [
              "<Figure size 432x288 with 1 Axes>"
            ],
            "image/png": "[encoded data removed]"
          },
          "metadata": {
            "needs_background": "light"
          }
        }
      ]
    },
    {
      "cell_type": "code",
      "source": [
        "plt.plot(history2.history['loss'])\n",
        "plt.plot(history2.history['val_loss'])\n",
        "plt.title('model loss')\n",
        "plt.ylabel('loss')\n",
        "plt.xlabel('epoch')\n",
        "plt.legend(['train', 'test'], loc='upper left')\n",
        "plt.show()"
      ],
      "metadata": {
        "colab": {
          "base_uri": "https://localhost:8080/",
          "height": 295
        },
        "id": "1puze4oW5eYt",
        "outputId": "5e51aa75-8775-40ff-f358-611fe3c31115"
      },
      "execution_count": 94,
      "outputs": [
        {
          "output_type": "display_data",
          "data": {
            "text/plain": [
              "<Figure size 432x288 with 1 Axes>"
            ],
            "image/png": "[encoded data removed]"
          },
          "metadata": {
            "needs_background": "light"
          }
        }
      ]
    },
    {
      "cell_type": "code",
      "source": [
        "label_dictionary = {}\n",
        "for idx,col in enumerate(train_labels_with_rep.columns):\n",
        "    label_dictionary[idx] = col"
      ],
      "metadata": {
        "id": "bOyFWkbmAmnj"
      },
      "execution_count": 96,
      "outputs": []
    },
    {
      "cell_type": "code",
      "source": [
        "from google.colab.patches import cv2_imshow as img_show\n",
        "import random"
      ],
      "metadata": {
        "id": "Yo9kuGUPCW-F"
      },
      "execution_count": null,
      "outputs": []
    },
    {
      "cell_type": "code",
      "source": [
        "_index = random.randint(0,len(test_labels))\n",
        "check_img = test_images[_index]\n",
        "img_show(cv2.resize(check_img,(300,300)))\n",
        "check_label = test_labels[_index]\n",
        "\n",
        "prediction = model.predict(np.array([check_img]))\n",
        "print(label_dictionary[np.argmax(prediction)])"
      ],
      "metadata": {
        "colab": {
          "base_uri": "https://localhost:8080/",
          "height": 334
        },
        "id": "GGEbj9mU5nx-",
        "outputId": "ceb002e6-d97f-4d0b-f85d-4e6d822fcdae"
      },
      "execution_count": 112,
      "outputs": [
        {
          "output_type": "display_data",
          "data": {
            "text/plain": [
              "<PIL.Image.Image image mode=RGB size=300x300 at 0x7F7BA02942D0>"
            ],
            "image/png": "[encoded data removed]"
          },
          "metadata": {}
        },
        {
          "output_type": "stream",
          "name": "stdout",
          "text": [
            "grapes\n"
          ]
        }
      ]
    },
    {
      "cell_type": "code",
      "source": [
        "y_pred_raw = new_model.predict(np.array(test_images))\n",
        "y_pred = np.argmax(y_pred_raw,axis=1)\n",
        "y_pred"
      ],
      "metadata": {
        "colab": {
          "base_uri": "https://localhost:8080/"
        },
        "id": "SvrVLdOu6sZA",
        "outputId": "b9e3ed44-0b6f-4a7e-a7ff-1f37075ce912"
      },
      "execution_count": 115,
      "outputs": [
        {
          "output_type": "execute_result",
          "data": {
            "text/plain": [
              "array([3, 5, 5, 6, 1, 4, 7, 4, 7, 7, 7, 1, 4, 1, 5, 6, 5, 3, 3, 0, 3, 3,\n",
              "       1, 3, 1, 0, 3, 3, 1, 5, 6, 5, 4, 4, 7, 7, 7, 5, 7, 7, 7, 7, 4, 4,\n",
              "       1, 3, 4, 7, 5, 3, 4, 5, 3, 0, 0, 0, 3, 3, 6, 5, 1, 4, 0, 4, 4, 4,\n",
              "       4, 4, 7, 7, 7, 5, 7, 7, 7, 7, 4, 4, 4, 4, 4, 1, 1, 3, 3, 0, 3, 3,\n",
              "       3, 3, 1, 5, 1, 1, 4, 4, 7, 7, 5, 7, 5, 4, 7, 7, 4, 4, 4, 4, 4, 1,\n",
              "       5, 3, 3, 3, 0, 3, 0, 0, 1, 4, 3, 3, 4, 4, 4, 5, 7, 0, 4, 4, 7, 7,\n",
              "       7, 7, 7, 5, 4, 4, 3, 4, 4, 1, 3, 3, 3, 3, 1, 0, 0, 1, 1, 0, 0, 0,\n",
              "       1, 3, 3, 1, 4, 4, 4, 4, 4, 7, 4, 7, 7, 5, 7, 7, 7, 7, 7, 7, 7, 7,\n",
              "       7, 3, 7, 5, 7, 7, 7, 4, 4, 4, 3, 1, 0, 3, 3, 3, 0, 0, 0, 0, 0, 5,\n",
              "       5, 3, 3, 1, 1, 1, 1, 7, 6, 1, 1, 6, 5, 1, 4, 4, 4, 4, 2, 2, 7, 4,\n",
              "       5, 0, 7, 5, 5, 5, 5, 7, 5, 5, 7, 2, 2, 4, 4, 4, 0, 4, 4, 1, 5, 6,\n",
              "       1, 6, 6, 7, 1, 1, 1, 1, 1, 0, 3, 5, 3, 3, 0, 1, 1, 0, 0, 0, 0, 3,\n",
              "       3, 3, 4, 3, 0, 0, 0, 0, 0, 1, 0, 0, 3, 5, 5, 1, 1, 5, 5, 5, 1, 1,\n",
              "       1, 4, 4, 4, 7, 5, 2, 7, 5, 5, 1, 7, 5, 5, 5, 5, 7, 5, 5, 7, 7, 2,\n",
              "       7, 7, 5, 5, 4, 2, 2, 4, 4, 1, 1, 1, 5, 1, 1, 3, 5, 5, 6, 0, 1, 0,\n",
              "       0, 0, 0, 0, 3, 4, 4, 0, 3, 3, 3, 3, 0, 0, 7, 0, 0, 1, 0, 0, 1, 5,\n",
              "       5, 1, 1, 3, 3, 7, 5, 5, 3, 1, 1, 1, 1, 6, 6, 2, 4, 4, 4, 5, 5, 7,\n",
              "       7, 4, 5, 7, 2, 7, 2, 2, 7, 5, 5, 7, 5, 4, 4, 2, 2, 4, 2, 2, 6, 1,\n",
              "       1, 5, 5, 3, 3, 1, 1, 5, 0, 0, 1, 0, 0, 0, 1, 1, 0, 0, 0, 3, 3, 0,\n",
              "       3, 3, 3, 3, 0, 0, 0, 1, 1, 0, 1, 1, 1, 3, 1, 1, 7, 5, 5, 1, 1, 6,\n",
              "       4, 2, 4, 5, 5, 5, 7, 7, 2, 4, 5, 4, 2, 6, 1, 1, 3, 3, 3, 1, 1, 1,\n",
              "       1, 1, 5, 0, 1, 1, 0, 0, 3, 3, 3, 4, 1, 1, 5, 1, 5, 0, 0, 0, 0, 0,\n",
              "       3, 0, 3, 3, 4, 0, 0, 0, 0, 1, 5, 5, 1, 5, 6, 5, 0, 0, 4, 4, 4, 5,\n",
              "       5, 7, 7, 7, 5, 5, 4, 4, 6, 5, 7, 1, 5, 5, 5, 0, 0, 4, 3, 3, 4, 3,\n",
              "       0, 3, 0, 0, 1, 5, 1, 7, 1, 6, 1, 4, 5, 2, 2, 2, 5, 5, 1, 1, 6, 5,\n",
              "       1, 7, 5, 4, 1, 1, 0, 3, 0, 3, 3, 3, 6, 1, 0, 0, 5, 5, 3, 3, 5, 4,\n",
              "       4, 7, 7, 4, 4, 7, 0, 7, 7, 7, 7, 4, 7, 7, 4, 4, 7, 7, 4, 4, 3, 6,\n",
              "       2, 3, 5, 3, 0, 0, 0, 0, 0, 1, 3, 1, 3, 5, 0, 0, 1, 5, 6, 6, 5, 4,\n",
              "       4, 7, 7, 7, 7, 7, 4, 4, 3, 3, 1, 3, 6, 5, 4, 1, 0, 0, 0, 3, 1, 1,\n",
              "       1, 3, 7, 3, 0, 0, 3, 3, 3, 5, 5, 6])"
            ]
          },
          "metadata": {},
          "execution_count": 115
        }
      ]
    },
    {
      "cell_type": "code",
      "source": [
        "real_labels = [np.argmax(x) for x in test_labels]"
      ],
      "metadata": {
        "id": "GHprOlzMDOBP"
      },
      "execution_count": 120,
      "outputs": []
    },
    {
      "cell_type": "code",
      "source": [
        "print(metrics.classification_report(real_labels,y_pred))\n",
        "print(\"Model Accuracy Score: \",accuracy_score(real_labels,y_pred))"
      ],
      "metadata": {
        "colab": {
          "base_uri": "https://localhost:8080/"
        },
        "id": "i35cB4GPDX0j",
        "outputId": "cbfe2a68-9ade-4dfc-edeb-a62b18e63bd4"
      },
      "execution_count": 122,
      "outputs": [
        {
          "output_type": "stream",
          "name": "stdout",
          "text": [
            "              precision    recall  f1-score   support\n",
            "\n",
            "           0       0.99      0.99      0.99       100\n",
            "           1       0.99      0.97      0.98       110\n",
            "           2       1.00      1.00      1.00        23\n",
            "           3       1.00      1.00      1.00        98\n",
            "           4       0.93      0.99      0.96        96\n",
            "           5       1.00      0.97      0.99       103\n",
            "           6       1.00      0.96      0.98        26\n",
            "           7       0.99      0.99      0.99        94\n",
            "\n",
            "    accuracy                           0.98       650\n",
            "   macro avg       0.99      0.98      0.99       650\n",
            "weighted avg       0.99      0.98      0.98       650\n",
            "\n",
            "Model Accuracy Score:  0.9846153846153847\n"
          ]
        }
      ]
    },
    {
      "cell_type": "code",
      "source": [
        ""
      ],
      "metadata": {
        "id": "OEku76BcD-OT"
      },
      "execution_count": null,
      "outputs": []
    }
  ]
}